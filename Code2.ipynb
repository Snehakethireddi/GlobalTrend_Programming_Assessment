{
 "cells": [
  {
   "cell_type": "markdown",
   "id": "9b74c961-6e93-4d42-af66-e31bc6edc26b",
   "metadata": {},
   "source": [
    "### Write a Python function that takes a list of URLs, attempts to download their content, and retries up to 3 times if an error occurs. Use appropriate error handling to manage different types of exceptions."
   ]
  },
  {
   "cell_type": "code",
   "execution_count": 1,
   "id": "33b338b2-c745-45cb-b7b7-61d51d8c949b",
   "metadata": {},
   "outputs": [
    {
     "name": "stdout",
     "output_type": "stream",
     "text": [
      "Successfully downloaded content from https://www.whitehouse.gov\n",
      "<!doctype html>\n",
      "<html class=\"no-js alert__has-cookie\" lang=\"en-US\">\n",
      "<head>\n",
      "\t<meta charset=\"utf-8\">\n",
      "\t\n",
      "Error occurred for https://www.un.org: 403 Client Error: Forbidden for url: https://www.un.org/\n",
      "Retrying https://www.un.org... (1 attempts left)\n",
      "Error occurred for https://www.un.org: 403 Client Error: Forbidden for url: https://www.un.org/\n",
      "Retrying https://www.un.org... (2 attempts left)\n",
      "Error occurred for https://www.un.org: 403 Client Error: Forbidden for url: https://www.un.org/\n",
      "Failed to download content from https://www.un.org after 3 attempts\n",
      "Successfully downloaded content from https://www.who.int\n",
      " <!DOCTYPE html> <html lang=\"en\"> <head> <!-- head to scrape:on --> <meta http-equiv=\"X-UA-Compatibl\n",
      "Successfully downloaded content from https://www.worldbank.org\n",
      "<!DOCTYPE html>\n",
      "\n",
      "<html lang=\"en\">\n",
      "    <head>\n",
      "\n",
      "         \n",
      "\n",
      "<meta http-equiv=\"X-UA-Compatible\" content=\n",
      "Successfully downloaded content from https://www.nasa.gov\n",
      "<!doctype html>\n",
      "<html lang=\"en-US\" prefix=\"og: https://ogp.me/ns#\">\n",
      "<head>\n",
      "\t<meta charset=\"UTF-8\">\n",
      "\t\n"
     ]
    }
   ],
   "source": [
    "import requests\n",
    "from time import sleep\n",
    "def download_url_content(urls):\n",
    "    for url in urls:\n",
    "        retries = 3\n",
    "        while retries > 0:\n",
    "            try:\n",
    "                response = requests.get(url)\n",
    "                response.raise_for_status()  \n",
    "                print(f\"Successfully downloaded content from {url}\")\n",
    "                print(response.text[:100])  \n",
    "                break  \n",
    "            except requests.exceptions.RequestException as err:\n",
    "                print(f\"Error occurred for {url}: {err}\")\n",
    "                retries -= 1\n",
    "                if retries > 0:\n",
    "                    print(f\"Retrying {url}... ({3 - retries} attempts left)\")\n",
    "                    sleep(2)  \n",
    "                else:\n",
    "                    print(f\"Failed to download content from {url} after 3 attempts\")\n",
    "urls = [\n",
    "    \"https://www.whitehouse.gov\",         \n",
    "    \"https://www.un.org\",                  \n",
    "    \"https://www.who.int\",                 \n",
    "    \"https://www.worldbank.org\",           \n",
    "    \"https://www.nasa.gov\"\n",
    "]\n",
    "download_url_content(urls)\n"
   ]
  },
  {
   "cell_type": "code",
   "execution_count": null,
   "id": "a8df9ad3-f74a-4185-836c-15bb39ba0b9a",
   "metadata": {},
   "outputs": [],
   "source": []
  }
 ],
 "metadata": {
  "kernelspec": {
   "display_name": "Python 3 (ipykernel)",
   "language": "python",
   "name": "python3"
  },
  "language_info": {
   "codemirror_mode": {
    "name": "ipython",
    "version": 3
   },
   "file_extension": ".py",
   "mimetype": "text/x-python",
   "name": "python",
   "nbconvert_exporter": "python",
   "pygments_lexer": "ipython3",
   "version": "3.11.7"
  }
 },
 "nbformat": 4,
 "nbformat_minor": 5
}
