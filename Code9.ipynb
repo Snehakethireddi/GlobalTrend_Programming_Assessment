{
 "cells": [
  {
   "cell_type": "markdown",
   "id": "6f24e0d8-54d3-46eb-877e-391978bd3663",
   "metadata": {},
   "source": [
    "### Write a Python function that generates a random password. The password should contain a mix of uppercase letters, lowercase letters, digits, and special characters."
   ]
  },
  {
   "cell_type": "code",
   "execution_count": 1,
   "id": "2a236e74-e65c-4b68-81a5-18ea728d5472",
   "metadata": {},
   "outputs": [
    {
     "name": "stdout",
     "output_type": "stream",
     "text": [
      "Generated Password: 3~{5]CtHL5'E\n"
     ]
    }
   ],
   "source": [
    "import random\n",
    "import string\n",
    "\n",
    "def generate_random_password(length=12):\n",
    "    # Define all possible characters for the password\n",
    "    characters = string.ascii_letters + string.digits + string.punctuation\n",
    "\n",
    "    # Initialize an empty list to store the password characters\n",
    "    password = []\n",
    "\n",
    "    # Add one character from each category to ensure inclusion\n",
    "    password.append(random.choice(string.ascii_lowercase))  \n",
    "    password.append(random.choice(string.ascii_uppercase))  \n",
    "    password.append(random.choice(string.digits))  # Digit\n",
    "    password.append(random.choice(string.punctuation))  \n",
    "\n",
    "    # Fill the rest of the password length\n",
    "    for _ in range(length - 4):\n",
    "        password.append(random.choice(characters))\n",
    "\n",
    "    # Shuffle the password characters to randomize\n",
    "    random.shuffle(password)\n",
    "\n",
    "    # Convert the list of characters to a string and return\n",
    "    return ''.join(password)\n",
    "\n",
    "# Example usage:\n",
    "generated_password = generate_random_password()\n",
    "print(\"Generated Password:\", generated_password)\n"
   ]
  }
 ],
 "metadata": {
  "kernelspec": {
   "display_name": "Python 3 (ipykernel)",
   "language": "python",
   "name": "python3"
  },
  "language_info": {
   "codemirror_mode": {
    "name": "ipython",
    "version": 3
   },
   "file_extension": ".py",
   "mimetype": "text/x-python",
   "name": "python",
   "nbconvert_exporter": "python",
   "pygments_lexer": "ipython3",
   "version": "3.11.7"
  }
 },
 "nbformat": 4,
 "nbformat_minor": 5
}
