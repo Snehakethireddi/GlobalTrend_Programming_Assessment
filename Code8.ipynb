{
 "cells": [
  {
   "cell_type": "markdown",
   "id": "3537b06d-448e-4617-9b27-a13dcfa512c1",
   "metadata": {},
   "source": [
    "### Write a Python function that takes two numbers and an operator (as a string) and performs the corresponding arithmetic operation (addition, subtraction, multiplication, or division)."
   ]
  },
  {
   "cell_type": "code",
   "execution_count": 1,
   "id": "96948cc0-5d83-4fa3-9407-a32bdf777e6a",
   "metadata": {},
   "outputs": [
    {
     "name": "stdin",
     "output_type": "stream",
     "text": [
      "Enter number of test cases:  4\n",
      "Enter num1:  10\n",
      "Enter num2:  2\n",
      "Enter operator +,-,/,*:  +\n"
     ]
    },
    {
     "name": "stdout",
     "output_type": "stream",
     "text": [
      "result:  12\n"
     ]
    },
    {
     "name": "stdin",
     "output_type": "stream",
     "text": [
      "Enter num1:  3\n",
      "Enter num2:  3\n",
      "Enter operator +,-,/,*:  -\n"
     ]
    },
    {
     "name": "stdout",
     "output_type": "stream",
     "text": [
      "result:  0\n"
     ]
    },
    {
     "name": "stdin",
     "output_type": "stream",
     "text": [
      "Enter num1:  100\n",
      "Enter num2:  20\n",
      "Enter operator +,-,/,*:  /\n"
     ]
    },
    {
     "name": "stdout",
     "output_type": "stream",
     "text": [
      "result:  5.0\n"
     ]
    },
    {
     "name": "stdin",
     "output_type": "stream",
     "text": [
      "Enter num1:  5\n",
      "Enter num2:  4\n",
      "Enter operator +,-,/,*:  *\n"
     ]
    },
    {
     "name": "stdout",
     "output_type": "stream",
     "text": [
      "result:  20\n"
     ]
    }
   ],
   "source": [
    "def operation(num1, num2, operator):\n",
    "    if operator == '+':\n",
    "        return num1 + num2\n",
    "    elif operator == '-':\n",
    "        return num1 - num2\n",
    "    elif operator == '*':\n",
    "        return num1 * num2\n",
    "    elif operator == '/':\n",
    "        if num2 == 0:\n",
    "            return \"Error: Division by zero is not allowed\"\n",
    "        else:\n",
    "            return num1 / num2\n",
    "    else:\n",
    "        return \"Error: Unsupported operator\"\n",
    "a=int(input(\"Enter number of test cases: \"))\n",
    "for i in range(a):\n",
    "    m=int(input(\"Enter num1: \"))\n",
    "    n=int(input(\"Enter num2: \"))\n",
    "    o=input(\"Enter operator +,-,/,*: \")\n",
    "    print(\"result: \",operation(m,n,o))"
   ]
  }
 ],
 "metadata": {
  "kernelspec": {
   "display_name": "Python 3 (ipykernel)",
   "language": "python",
   "name": "python3"
  },
  "language_info": {
   "codemirror_mode": {
    "name": "ipython",
    "version": 3
   },
   "file_extension": ".py",
   "mimetype": "text/x-python",
   "name": "python",
   "nbconvert_exporter": "python",
   "pygments_lexer": "ipython3",
   "version": "3.11.7"
  }
 },
 "nbformat": 4,
 "nbformat_minor": 5
}
