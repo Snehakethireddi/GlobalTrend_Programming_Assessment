{
 "cells": [
  {
   "cell_type": "markdown",
   "id": "038571ef-eb29-4b8d-ada5-2904641f3e38",
   "metadata": {},
   "source": [
    "### Write a Python function that divides two numbers and handles the case where the divisor is zero by returning a custom error message."
   ]
  },
  {
   "cell_type": "code",
   "execution_count": 1,
   "id": "10107e91-da45-47db-bf3f-a8a86c5c6ac1",
   "metadata": {},
   "outputs": [
    {
     "name": "stdin",
     "output_type": "stream",
     "text": [
      "Enter number of test cases:  2\n",
      "Enter dividend:  12\n",
      "Enter divisor:  3\n"
     ]
    },
    {
     "name": "stdout",
     "output_type": "stream",
     "text": [
      "4.0\n"
     ]
    },
    {
     "name": "stdin",
     "output_type": "stream",
     "text": [
      "Enter dividend:  12\n",
      "Enter divisor:  0\n"
     ]
    },
    {
     "name": "stdout",
     "output_type": "stream",
     "text": [
      "Error: Division by zero is not allowed\n"
     ]
    }
   ],
   "source": [
    "def divide_numbers(dividend, divisor):\n",
    "    try:\n",
    "        result = dividend / divisor\n",
    "        return result\n",
    "    except ZeroDivisionError:\n",
    "        return \"Error: Division by zero is not allowed\"\n",
    "a=int(input(\"Enter number of test cases: \"))\n",
    "for i in range(a):\n",
    "    m=int(input(\"Enter dividend: \"))\n",
    "    n=int(input(\"Enter divisor: \"))\n",
    "    print(divide_numbers(m, n))   "
   ]
  }
 ],
 "metadata": {
  "kernelspec": {
   "display_name": "Python 3 (ipykernel)",
   "language": "python",
   "name": "python3"
  },
  "language_info": {
   "codemirror_mode": {
    "name": "ipython",
    "version": 3
   },
   "file_extension": ".py",
   "mimetype": "text/x-python",
   "name": "python",
   "nbconvert_exporter": "python",
   "pygments_lexer": "ipython3",
   "version": "3.11.7"
  }
 },
 "nbformat": 4,
 "nbformat_minor": 5
}
