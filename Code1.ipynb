{
 "cells": [
  {
   "cell_type": "markdown",
   "id": "c63fd593-be25-4670-a95d-b75b559aeb39",
   "metadata": {},
   "source": [
    "### Implement a Python class MaxHeap that supports the following operations: insert, delete, and get_max. Ensure the operations maintain the properties of a max-heap."
   ]
  },
  {
   "cell_type": "code",
   "execution_count": 1,
   "id": "d99720c2-177b-4e67-b6e8-fb9490b59d78",
   "metadata": {},
   "outputs": [
    {
     "name": "stdout",
     "output_type": "stream",
     "text": [
      "20\n",
      "15\n"
     ]
    }
   ],
   "source": [
    "class MaxHeap:\n",
    "    def __init__(self):\n",
    "        self.heap = []\n",
    "    def insert(self, value):\n",
    "        self.heap.append(value)\n",
    "        self._heapify_up(len(self.heap) - 1)\n",
    "    def delete(self):\n",
    "        if len(self.heap) == 0:\n",
    "            return None\n",
    "        if len(self.heap) == 1:\n",
    "            return self.heap.pop()\n",
    "        max_value = self.heap[0]  \n",
    "        self.heap[0] = self.heap.pop()  \n",
    "        self._heapify_down(0)\n",
    "        return max_value\n",
    "    def get_max(self):\n",
    "        if len(self.heap) == 0:\n",
    "            return None\n",
    "        return self.heap[0]\n",
    "\n",
    "    def _heapify_up(self, index):\n",
    "        while index > 0:\n",
    "            parent_index = (index - 1) // 2\n",
    "            if self.heap[index] > self.heap[parent_index]:\n",
    "                self.heap[index], self.heap[parent_index] = self.heap[parent_index], self.heap[index]\n",
    "                index = parent_index\n",
    "            else:\n",
    "                break\n",
    "    def _heapify_down(self, index):\n",
    "        length = len(self.heap)\n",
    "        while True:\n",
    "            left_child_index = 2 * index + 1\n",
    "            right_child_index = 2 * index + 2\n",
    "            largest = index\n",
    "            if left_child_index < length and self.heap[left_child_index] > self.heap[largest]:\n",
    "                largest = left_child_index\n",
    "            if right_child_index < length and self.heap[right_child_index] > self.heap[largest]:\n",
    "                largest = right_child_index\n",
    "            if largest == index:\n",
    "                break\n",
    "            self.heap[index], self.heap[largest] = self.heap[largest], self.heap[index]\n",
    "            index = largest\n",
    "heap = MaxHeap()\n",
    "heap.insert(10)\n",
    "heap.insert(20)\n",
    "heap.insert(15)\n",
    "print(heap.get_max())  \n",
    "heap.delete()\n",
    "print(heap.get_max())  \n"
   ]
  }
 ],
 "metadata": {
  "kernelspec": {
   "display_name": "Python 3 (ipykernel)",
   "language": "python",
   "name": "python3"
  },
  "language_info": {
   "codemirror_mode": {
    "name": "ipython",
    "version": 3
   },
   "file_extension": ".py",
   "mimetype": "text/x-python",
   "name": "python",
   "nbconvert_exporter": "python",
   "pygments_lexer": "ipython3",
   "version": "3.11.7"
  }
 },
 "nbformat": 4,
 "nbformat_minor": 5
}
