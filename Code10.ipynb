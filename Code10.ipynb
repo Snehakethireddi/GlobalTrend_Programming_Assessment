{
 "cells": [
  {
   "cell_type": "markdown",
   "id": "24e21d85-12d4-4708-9744-1a49c6f26515",
   "metadata": {},
   "source": [
    "### Write a Python function that takes a 2D list (matrix) and returns its transpose."
   ]
  },
  {
   "cell_type": "code",
   "execution_count": 1,
   "id": "dc65622e-0542-4dac-8886-d954a0db8df0",
   "metadata": {},
   "outputs": [
    {
     "name": "stdin",
     "output_type": "stream",
     "text": [
      "Enter number of rows:  3\n",
      "Enter number of columns:  2\n"
     ]
    },
    {
     "name": "stdout",
     "output_type": "stream",
     "text": [
      "Enter matrix: \n"
     ]
    },
    {
     "name": "stdin",
     "output_type": "stream",
     "text": [
      " 1\n",
      " 2\n",
      " 3\n",
      " 4\n",
      " 5\n",
      " 6\n"
     ]
    },
    {
     "name": "stdout",
     "output_type": "stream",
     "text": [
      "Matrix: \n",
      "1   2   \n",
      "3   4   \n",
      "5   6   \n",
      "Transpose: \n",
      "[[1 3 5]\n",
      " [2 4 6]]\n"
     ]
    }
   ],
   "source": [
    "import numpy as np\n",
    "def transpose(matrixa):\n",
    "    matrixb = np.transpose(matrixa)\n",
    "    print(\"Transpose: \")\n",
    "    print(matrixb)\n",
    "r = int(input(\"Enter number of rows: \"))\n",
    "c = int(input(\"Enter number of columns: \"))\n",
    "print(\"Enter matrix: \")\n",
    "matrixa = []\n",
    "for i in range(r):\n",
    "    a = []\n",
    "    for j in range(c):\n",
    "        a.append(int(input()))\n",
    "    matrixa.append(a)\n",
    "print(\"Matrix: \")\n",
    "for i in range(r):\n",
    "    for j in range(c):\n",
    "        print(matrixa[i][j], \" \", end=' ')\n",
    "    print()\n",
    "transpose(matrixa)"
   ]
  }
 ],
 "metadata": {
  "kernelspec": {
   "display_name": "Python 3 (ipykernel)",
   "language": "python",
   "name": "python3"
  },
  "language_info": {
   "codemirror_mode": {
    "name": "ipython",
    "version": 3
   },
   "file_extension": ".py",
   "mimetype": "text/x-python",
   "name": "python",
   "nbconvert_exporter": "python",
   "pygments_lexer": "ipython3",
   "version": "3.11.7"
  }
 },
 "nbformat": 4,
 "nbformat_minor": 5
}
